{
 "cells": [
  {
   "cell_type": "markdown",
   "metadata": {},
   "source": [
    "# Introducción\n",
    "Con este proyecto mi objetivo es desarrollar un modelo que pueda analizar el comportamiento de los clientes y predecir si un cliente dejará el banco Beta Bank pronto.\n",
    "\n",
    "Observaré los datos de los clientes en la base y entrenaré un modelo a base del comportamiento del cliente para predecir si dejará el banco pronto y así avisar al departamento correspondiente para que busquen una manera de retenerlo."
   ]
  },
  {
   "cell_type": "markdown",
   "metadata": {},
   "source": [
    "### 1 Voy a cargar las librerías y la tabla con la información de los clientes, además de ver la información de las mismas."
   ]
  },
  {
   "cell_type": "code",
   "execution_count": 1,
   "metadata": {},
   "outputs": [],
   "source": [
    "# Cargar librerías.\n",
    "\n",
    "from scipy import stats as st\n",
    "import pandas as pd\n",
    "from matplotlib import pyplot as plt\n",
    "import numpy as np\n",
    "import seaborn as sns\n",
    "import math\n",
    "from sklearn.model_selection import train_test_split\n",
    "from sklearn.metrics import mean_squared_error\n",
    "from sklearn.metrics import accuracy_score\n",
    "from sklearn.tree import DecisionTreeClassifier\n",
    "from sklearn.linear_model import LogisticRegression\n",
    "from sklearn.ensemble import RandomForestClassifier\n",
    "from sklearn.ensemble import RandomForestRegressor\n",
    "from sklearn.metrics import mean_absolute_error\n",
    "from sklearn.metrics import mean_absolute_error\n",
    "from sklearn.linear_model import LinearRegression\n",
    "from sklearn.preprocessing import StandardScaler\n",
    "from sklearn.metrics import f1_score\n",
    "from sklearn.metrics import roc_auc_score\n",
    "from sklearn.preprocessing import OrdinalEncoder\n",
    "from sklearn.utils import shuffle"
   ]
  },
  {
   "cell_type": "code",
   "execution_count": 2,
   "metadata": {},
   "outputs": [],
   "source": [
    "# Carga los datos en un DataFrame.\n",
    "\n",
    "users = pd.read_csv('/datasets/Churn.csv')"
   ]
  },
  {
   "cell_type": "code",
   "execution_count": 3,
   "metadata": {},
   "outputs": [
    {
     "data": {
      "text/html": [
       "<div>\n",
       "<style scoped>\n",
       "    .dataframe tbody tr th:only-of-type {\n",
       "        vertical-align: middle;\n",
       "    }\n",
       "\n",
       "    .dataframe tbody tr th {\n",
       "        vertical-align: top;\n",
       "    }\n",
       "\n",
       "    .dataframe thead th {\n",
       "        text-align: right;\n",
       "    }\n",
       "</style>\n",
       "<table border=\"1\" class=\"dataframe\">\n",
       "  <thead>\n",
       "    <tr style=\"text-align: right;\">\n",
       "      <th></th>\n",
       "      <th>RowNumber</th>\n",
       "      <th>CustomerId</th>\n",
       "      <th>Surname</th>\n",
       "      <th>CreditScore</th>\n",
       "      <th>Geography</th>\n",
       "      <th>Gender</th>\n",
       "      <th>Age</th>\n",
       "      <th>Tenure</th>\n",
       "      <th>Balance</th>\n",
       "      <th>NumOfProducts</th>\n",
       "      <th>HasCrCard</th>\n",
       "      <th>IsActiveMember</th>\n",
       "      <th>EstimatedSalary</th>\n",
       "      <th>Exited</th>\n",
       "    </tr>\n",
       "  </thead>\n",
       "  <tbody>\n",
       "    <tr>\n",
       "      <th>0</th>\n",
       "      <td>1</td>\n",
       "      <td>15634602</td>\n",
       "      <td>Hargrave</td>\n",
       "      <td>619</td>\n",
       "      <td>France</td>\n",
       "      <td>Female</td>\n",
       "      <td>42</td>\n",
       "      <td>2.0</td>\n",
       "      <td>0.00</td>\n",
       "      <td>1</td>\n",
       "      <td>1</td>\n",
       "      <td>1</td>\n",
       "      <td>101348.88</td>\n",
       "      <td>1</td>\n",
       "    </tr>\n",
       "    <tr>\n",
       "      <th>1</th>\n",
       "      <td>2</td>\n",
       "      <td>15647311</td>\n",
       "      <td>Hill</td>\n",
       "      <td>608</td>\n",
       "      <td>Spain</td>\n",
       "      <td>Female</td>\n",
       "      <td>41</td>\n",
       "      <td>1.0</td>\n",
       "      <td>83807.86</td>\n",
       "      <td>1</td>\n",
       "      <td>0</td>\n",
       "      <td>1</td>\n",
       "      <td>112542.58</td>\n",
       "      <td>0</td>\n",
       "    </tr>\n",
       "    <tr>\n",
       "      <th>2</th>\n",
       "      <td>3</td>\n",
       "      <td>15619304</td>\n",
       "      <td>Onio</td>\n",
       "      <td>502</td>\n",
       "      <td>France</td>\n",
       "      <td>Female</td>\n",
       "      <td>42</td>\n",
       "      <td>8.0</td>\n",
       "      <td>159660.80</td>\n",
       "      <td>3</td>\n",
       "      <td>1</td>\n",
       "      <td>0</td>\n",
       "      <td>113931.57</td>\n",
       "      <td>1</td>\n",
       "    </tr>\n",
       "    <tr>\n",
       "      <th>3</th>\n",
       "      <td>4</td>\n",
       "      <td>15701354</td>\n",
       "      <td>Boni</td>\n",
       "      <td>699</td>\n",
       "      <td>France</td>\n",
       "      <td>Female</td>\n",
       "      <td>39</td>\n",
       "      <td>1.0</td>\n",
       "      <td>0.00</td>\n",
       "      <td>2</td>\n",
       "      <td>0</td>\n",
       "      <td>0</td>\n",
       "      <td>93826.63</td>\n",
       "      <td>0</td>\n",
       "    </tr>\n",
       "    <tr>\n",
       "      <th>4</th>\n",
       "      <td>5</td>\n",
       "      <td>15737888</td>\n",
       "      <td>Mitchell</td>\n",
       "      <td>850</td>\n",
       "      <td>Spain</td>\n",
       "      <td>Female</td>\n",
       "      <td>43</td>\n",
       "      <td>2.0</td>\n",
       "      <td>125510.82</td>\n",
       "      <td>1</td>\n",
       "      <td>1</td>\n",
       "      <td>1</td>\n",
       "      <td>79084.10</td>\n",
       "      <td>0</td>\n",
       "    </tr>\n",
       "    <tr>\n",
       "      <th>5</th>\n",
       "      <td>6</td>\n",
       "      <td>15574012</td>\n",
       "      <td>Chu</td>\n",
       "      <td>645</td>\n",
       "      <td>Spain</td>\n",
       "      <td>Male</td>\n",
       "      <td>44</td>\n",
       "      <td>8.0</td>\n",
       "      <td>113755.78</td>\n",
       "      <td>2</td>\n",
       "      <td>1</td>\n",
       "      <td>0</td>\n",
       "      <td>149756.71</td>\n",
       "      <td>1</td>\n",
       "    </tr>\n",
       "    <tr>\n",
       "      <th>6</th>\n",
       "      <td>7</td>\n",
       "      <td>15592531</td>\n",
       "      <td>Bartlett</td>\n",
       "      <td>822</td>\n",
       "      <td>France</td>\n",
       "      <td>Male</td>\n",
       "      <td>50</td>\n",
       "      <td>7.0</td>\n",
       "      <td>0.00</td>\n",
       "      <td>2</td>\n",
       "      <td>1</td>\n",
       "      <td>1</td>\n",
       "      <td>10062.80</td>\n",
       "      <td>0</td>\n",
       "    </tr>\n",
       "    <tr>\n",
       "      <th>7</th>\n",
       "      <td>8</td>\n",
       "      <td>15656148</td>\n",
       "      <td>Obinna</td>\n",
       "      <td>376</td>\n",
       "      <td>Germany</td>\n",
       "      <td>Female</td>\n",
       "      <td>29</td>\n",
       "      <td>4.0</td>\n",
       "      <td>115046.74</td>\n",
       "      <td>4</td>\n",
       "      <td>1</td>\n",
       "      <td>0</td>\n",
       "      <td>119346.88</td>\n",
       "      <td>1</td>\n",
       "    </tr>\n",
       "    <tr>\n",
       "      <th>8</th>\n",
       "      <td>9</td>\n",
       "      <td>15792365</td>\n",
       "      <td>He</td>\n",
       "      <td>501</td>\n",
       "      <td>France</td>\n",
       "      <td>Male</td>\n",
       "      <td>44</td>\n",
       "      <td>4.0</td>\n",
       "      <td>142051.07</td>\n",
       "      <td>2</td>\n",
       "      <td>0</td>\n",
       "      <td>1</td>\n",
       "      <td>74940.50</td>\n",
       "      <td>0</td>\n",
       "    </tr>\n",
       "    <tr>\n",
       "      <th>9</th>\n",
       "      <td>10</td>\n",
       "      <td>15592389</td>\n",
       "      <td>H?</td>\n",
       "      <td>684</td>\n",
       "      <td>France</td>\n",
       "      <td>Male</td>\n",
       "      <td>27</td>\n",
       "      <td>2.0</td>\n",
       "      <td>134603.88</td>\n",
       "      <td>1</td>\n",
       "      <td>1</td>\n",
       "      <td>1</td>\n",
       "      <td>71725.73</td>\n",
       "      <td>0</td>\n",
       "    </tr>\n",
       "  </tbody>\n",
       "</table>\n",
       "</div>"
      ],
      "text/plain": [
       "   RowNumber  CustomerId   Surname  CreditScore Geography  Gender  Age  \\\n",
       "0          1    15634602  Hargrave          619    France  Female   42   \n",
       "1          2    15647311      Hill          608     Spain  Female   41   \n",
       "2          3    15619304      Onio          502    France  Female   42   \n",
       "3          4    15701354      Boni          699    France  Female   39   \n",
       "4          5    15737888  Mitchell          850     Spain  Female   43   \n",
       "5          6    15574012       Chu          645     Spain    Male   44   \n",
       "6          7    15592531  Bartlett          822    France    Male   50   \n",
       "7          8    15656148    Obinna          376   Germany  Female   29   \n",
       "8          9    15792365        He          501    France    Male   44   \n",
       "9         10    15592389        H?          684    France    Male   27   \n",
       "\n",
       "   Tenure    Balance  NumOfProducts  HasCrCard  IsActiveMember  \\\n",
       "0     2.0       0.00              1          1               1   \n",
       "1     1.0   83807.86              1          0               1   \n",
       "2     8.0  159660.80              3          1               0   \n",
       "3     1.0       0.00              2          0               0   \n",
       "4     2.0  125510.82              1          1               1   \n",
       "5     8.0  113755.78              2          1               0   \n",
       "6     7.0       0.00              2          1               1   \n",
       "7     4.0  115046.74              4          1               0   \n",
       "8     4.0  142051.07              2          0               1   \n",
       "9     2.0  134603.88              1          1               1   \n",
       "\n",
       "   EstimatedSalary  Exited  \n",
       "0        101348.88       1  \n",
       "1        112542.58       0  \n",
       "2        113931.57       1  \n",
       "3         93826.63       0  \n",
       "4         79084.10       0  \n",
       "5        149756.71       1  \n",
       "6         10062.80       0  \n",
       "7        119346.88       1  \n",
       "8         74940.50       0  \n",
       "9         71725.73       0  "
      ]
     },
     "execution_count": 3,
     "metadata": {},
     "output_type": "execute_result"
    }
   ],
   "source": [
    "# Mostrar parte del Dataframe\n",
    "\n",
    "users.head(10)"
   ]
  },
  {
   "cell_type": "code",
   "execution_count": 4,
   "metadata": {},
   "outputs": [
    {
     "data": {
      "text/html": [
       "<div>\n",
       "<style scoped>\n",
       "    .dataframe tbody tr th:only-of-type {\n",
       "        vertical-align: middle;\n",
       "    }\n",
       "\n",
       "    .dataframe tbody tr th {\n",
       "        vertical-align: top;\n",
       "    }\n",
       "\n",
       "    .dataframe thead th {\n",
       "        text-align: right;\n",
       "    }\n",
       "</style>\n",
       "<table border=\"1\" class=\"dataframe\">\n",
       "  <thead>\n",
       "    <tr style=\"text-align: right;\">\n",
       "      <th></th>\n",
       "      <th>RowNumber</th>\n",
       "      <th>CustomerId</th>\n",
       "      <th>CreditScore</th>\n",
       "      <th>Age</th>\n",
       "      <th>Tenure</th>\n",
       "      <th>Balance</th>\n",
       "      <th>NumOfProducts</th>\n",
       "      <th>HasCrCard</th>\n",
       "      <th>IsActiveMember</th>\n",
       "      <th>EstimatedSalary</th>\n",
       "      <th>Exited</th>\n",
       "    </tr>\n",
       "  </thead>\n",
       "  <tbody>\n",
       "    <tr>\n",
       "      <th>count</th>\n",
       "      <td>10000.00000</td>\n",
       "      <td>1.000000e+04</td>\n",
       "      <td>10000.000000</td>\n",
       "      <td>10000.000000</td>\n",
       "      <td>9091.000000</td>\n",
       "      <td>10000.000000</td>\n",
       "      <td>10000.000000</td>\n",
       "      <td>10000.00000</td>\n",
       "      <td>10000.000000</td>\n",
       "      <td>10000.000000</td>\n",
       "      <td>10000.000000</td>\n",
       "    </tr>\n",
       "    <tr>\n",
       "      <th>mean</th>\n",
       "      <td>5000.50000</td>\n",
       "      <td>1.569094e+07</td>\n",
       "      <td>650.528800</td>\n",
       "      <td>38.921800</td>\n",
       "      <td>4.997690</td>\n",
       "      <td>76485.889288</td>\n",
       "      <td>1.530200</td>\n",
       "      <td>0.70550</td>\n",
       "      <td>0.515100</td>\n",
       "      <td>100090.239881</td>\n",
       "      <td>0.203700</td>\n",
       "    </tr>\n",
       "    <tr>\n",
       "      <th>std</th>\n",
       "      <td>2886.89568</td>\n",
       "      <td>7.193619e+04</td>\n",
       "      <td>96.653299</td>\n",
       "      <td>10.487806</td>\n",
       "      <td>2.894723</td>\n",
       "      <td>62397.405202</td>\n",
       "      <td>0.581654</td>\n",
       "      <td>0.45584</td>\n",
       "      <td>0.499797</td>\n",
       "      <td>57510.492818</td>\n",
       "      <td>0.402769</td>\n",
       "    </tr>\n",
       "    <tr>\n",
       "      <th>min</th>\n",
       "      <td>1.00000</td>\n",
       "      <td>1.556570e+07</td>\n",
       "      <td>350.000000</td>\n",
       "      <td>18.000000</td>\n",
       "      <td>0.000000</td>\n",
       "      <td>0.000000</td>\n",
       "      <td>1.000000</td>\n",
       "      <td>0.00000</td>\n",
       "      <td>0.000000</td>\n",
       "      <td>11.580000</td>\n",
       "      <td>0.000000</td>\n",
       "    </tr>\n",
       "    <tr>\n",
       "      <th>25%</th>\n",
       "      <td>2500.75000</td>\n",
       "      <td>1.562853e+07</td>\n",
       "      <td>584.000000</td>\n",
       "      <td>32.000000</td>\n",
       "      <td>2.000000</td>\n",
       "      <td>0.000000</td>\n",
       "      <td>1.000000</td>\n",
       "      <td>0.00000</td>\n",
       "      <td>0.000000</td>\n",
       "      <td>51002.110000</td>\n",
       "      <td>0.000000</td>\n",
       "    </tr>\n",
       "    <tr>\n",
       "      <th>50%</th>\n",
       "      <td>5000.50000</td>\n",
       "      <td>1.569074e+07</td>\n",
       "      <td>652.000000</td>\n",
       "      <td>37.000000</td>\n",
       "      <td>5.000000</td>\n",
       "      <td>97198.540000</td>\n",
       "      <td>1.000000</td>\n",
       "      <td>1.00000</td>\n",
       "      <td>1.000000</td>\n",
       "      <td>100193.915000</td>\n",
       "      <td>0.000000</td>\n",
       "    </tr>\n",
       "    <tr>\n",
       "      <th>75%</th>\n",
       "      <td>7500.25000</td>\n",
       "      <td>1.575323e+07</td>\n",
       "      <td>718.000000</td>\n",
       "      <td>44.000000</td>\n",
       "      <td>7.000000</td>\n",
       "      <td>127644.240000</td>\n",
       "      <td>2.000000</td>\n",
       "      <td>1.00000</td>\n",
       "      <td>1.000000</td>\n",
       "      <td>149388.247500</td>\n",
       "      <td>0.000000</td>\n",
       "    </tr>\n",
       "    <tr>\n",
       "      <th>max</th>\n",
       "      <td>10000.00000</td>\n",
       "      <td>1.581569e+07</td>\n",
       "      <td>850.000000</td>\n",
       "      <td>92.000000</td>\n",
       "      <td>10.000000</td>\n",
       "      <td>250898.090000</td>\n",
       "      <td>4.000000</td>\n",
       "      <td>1.00000</td>\n",
       "      <td>1.000000</td>\n",
       "      <td>199992.480000</td>\n",
       "      <td>1.000000</td>\n",
       "    </tr>\n",
       "  </tbody>\n",
       "</table>\n",
       "</div>"
      ],
      "text/plain": [
       "         RowNumber    CustomerId   CreditScore           Age       Tenure  \\\n",
       "count  10000.00000  1.000000e+04  10000.000000  10000.000000  9091.000000   \n",
       "mean    5000.50000  1.569094e+07    650.528800     38.921800     4.997690   \n",
       "std     2886.89568  7.193619e+04     96.653299     10.487806     2.894723   \n",
       "min        1.00000  1.556570e+07    350.000000     18.000000     0.000000   \n",
       "25%     2500.75000  1.562853e+07    584.000000     32.000000     2.000000   \n",
       "50%     5000.50000  1.569074e+07    652.000000     37.000000     5.000000   \n",
       "75%     7500.25000  1.575323e+07    718.000000     44.000000     7.000000   \n",
       "max    10000.00000  1.581569e+07    850.000000     92.000000    10.000000   \n",
       "\n",
       "             Balance  NumOfProducts    HasCrCard  IsActiveMember  \\\n",
       "count   10000.000000   10000.000000  10000.00000    10000.000000   \n",
       "mean    76485.889288       1.530200      0.70550        0.515100   \n",
       "std     62397.405202       0.581654      0.45584        0.499797   \n",
       "min         0.000000       1.000000      0.00000        0.000000   \n",
       "25%         0.000000       1.000000      0.00000        0.000000   \n",
       "50%     97198.540000       1.000000      1.00000        1.000000   \n",
       "75%    127644.240000       2.000000      1.00000        1.000000   \n",
       "max    250898.090000       4.000000      1.00000        1.000000   \n",
       "\n",
       "       EstimatedSalary        Exited  \n",
       "count     10000.000000  10000.000000  \n",
       "mean     100090.239881      0.203700  \n",
       "std       57510.492818      0.402769  \n",
       "min          11.580000      0.000000  \n",
       "25%       51002.110000      0.000000  \n",
       "50%      100193.915000      0.000000  \n",
       "75%      149388.247500      0.000000  \n",
       "max      199992.480000      1.000000  "
      ]
     },
     "execution_count": 4,
     "metadata": {},
     "output_type": "execute_result"
    }
   ],
   "source": [
    "# Ver descripción general\n",
    "\n",
    "users.describe()"
   ]
  },
  {
   "cell_type": "code",
   "execution_count": 5,
   "metadata": {},
   "outputs": [
    {
     "name": "stdout",
     "output_type": "stream",
     "text": [
      "Empty DataFrame\n",
      "Columns: [RowNumber, CustomerId, Surname, CreditScore, Geography, Gender, Age, Tenure, Balance, NumOfProducts, HasCrCard, IsActiveMember, EstimatedSalary, Exited]\n",
      "Index: []\n"
     ]
    }
   ],
   "source": [
    "# Ver si hay duplicados\n",
    "\n",
    "print(users[users.duplicated()])"
   ]
  },
  {
   "cell_type": "code",
   "execution_count": 6,
   "metadata": {},
   "outputs": [
    {
     "name": "stdout",
     "output_type": "stream",
     "text": [
      "<class 'pandas.core.frame.DataFrame'>\n",
      "RangeIndex: 10000 entries, 0 to 9999\n",
      "Data columns (total 14 columns):\n",
      " #   Column           Non-Null Count  Dtype  \n",
      "---  ------           --------------  -----  \n",
      " 0   RowNumber        10000 non-null  int64  \n",
      " 1   CustomerId       10000 non-null  int64  \n",
      " 2   Surname          10000 non-null  object \n",
      " 3   CreditScore      10000 non-null  int64  \n",
      " 4   Geography        10000 non-null  object \n",
      " 5   Gender           10000 non-null  object \n",
      " 6   Age              10000 non-null  int64  \n",
      " 7   Tenure           9091 non-null   float64\n",
      " 8   Balance          10000 non-null  float64\n",
      " 9   NumOfProducts    10000 non-null  int64  \n",
      " 10  HasCrCard        10000 non-null  int64  \n",
      " 11  IsActiveMember   10000 non-null  int64  \n",
      " 12  EstimatedSalary  10000 non-null  float64\n",
      " 13  Exited           10000 non-null  int64  \n",
      "dtypes: float64(3), int64(8), object(3)\n",
      "memory usage: 1.1+ MB\n"
     ]
    }
   ],
   "source": [
    "# Ver si hay valores nulos\n",
    "\n",
    "users.info()"
   ]
  },
  {
   "cell_type": "code",
   "execution_count": 7,
   "metadata": {},
   "outputs": [
    {
     "name": "stdout",
     "output_type": "stream",
     "text": [
      "Index(['RowNumber', 'CustomerId', 'Surname', 'CreditScore', 'Geography',\n",
      "       'Gender', 'Age', 'Tenure', 'Balance', 'NumOfProducts', 'HasCrCard',\n",
      "       'IsActiveMember', 'EstimatedSalary', 'Exited'],\n",
      "      dtype='object')\n"
     ]
    }
   ],
   "source": [
    "# Imprimí los títulos de las columnas para tenerlos presentes\n",
    "\n",
    "print(users.columns)"
   ]
  },
  {
   "cell_type": "markdown",
   "metadata": {},
   "source": [
    "Aquí puedo observar en el método info que en la columna 'Tenure' hay valores ausentes, voy a usar el método describe para ver la mediana y rellenar los valores ausentes con ese valor."
   ]
  },
  {
   "cell_type": "code",
   "execution_count": 8,
   "metadata": {},
   "outputs": [
    {
     "data": {
      "text/plain": [
       "count    9091.000000\n",
       "mean        4.997690\n",
       "std         2.894723\n",
       "min         0.000000\n",
       "25%         2.000000\n",
       "50%         5.000000\n",
       "75%         7.000000\n",
       "max        10.000000\n",
       "Name: Tenure, dtype: float64"
      ]
     },
     "execution_count": 8,
     "metadata": {},
     "output_type": "execute_result"
    }
   ],
   "source": [
    "users['Tenure'].describe()\n"
   ]
  },
  {
   "cell_type": "code",
   "execution_count": 9,
   "metadata": {},
   "outputs": [],
   "source": [
    "# Voy a rellenar los valores ausentes con el valor de la mediana de esa columna\n",
    "\n",
    "users['Tenure'].fillna(5, inplace=True)\n"
   ]
  },
  {
   "cell_type": "markdown",
   "metadata": {},
   "source": [
    "### 2 Comenzaré a usar el dataset para entrenar los diferentes modelos y medir su exactitud."
   ]
  },
  {
   "cell_type": "code",
   "execution_count": 10,
   "metadata": {},
   "outputs": [],
   "source": [
    "# Acá estoy buscando que los valores categóricos tengan valores numéricos para entrenar al modelo y dividir los conjuntos de\n",
    "# datos en entrenamiento, validación y prueba.\n",
    "\n",
    "data_ohe = pd.get_dummies(users, drop_first=True)\n",
    "target = data_ohe['Exited']\n",
    "features = data_ohe.drop(['Exited', 'RowNumber', 'CustomerId'], axis=1)\n",
    "features_train, features_test, target_train, target_test = train_test_split(features, target, test_size=0.2, random_state=54321)\n",
    "features_train, features_val, target_train, target_val = train_test_split(features_train, target_train, test_size=0.2, random_state=54321)\n"
   ]
  },
  {
   "cell_type": "code",
   "execution_count": 11,
   "metadata": {},
   "outputs": [
    {
     "name": "stdout",
     "output_type": "stream",
     "text": [
      "Exactitud de max_depth igual a 1\n",
      "Conjunto de entrenamiento: 0.7963\n",
      "Conjunto de validación: 0.805\n",
      "Exactitud de max_depth igual a 2\n",
      "Conjunto de entrenamiento: 0.8294\n",
      "Conjunto de validación: 0.842\n",
      "Exactitud de max_depth igual a 3\n",
      "Conjunto de entrenamiento: 0.8399\n",
      "Conjunto de validación: 0.8525\n",
      "Exactitud de max_depth igual a 4\n",
      "Conjunto de entrenamiento: 0.8516\n",
      "Conjunto de validación: 0.862\n",
      "Exactitud de max_depth igual a 5\n",
      "Conjunto de entrenamiento: 0.8592\n",
      "Conjunto de validación: 0.867\n",
      "Exactitud de max_depth igual a 6\n",
      "Conjunto de entrenamiento: 0.8671\n",
      "Conjunto de validación: 0.8735\n",
      "Exactitud de max_depth igual a 7\n",
      "Conjunto de entrenamiento: 0.8722\n",
      "Conjunto de validación: 0.8805\n",
      "Exactitud de max_depth igual a 8\n",
      "Conjunto de entrenamiento: 0.881\n",
      "Conjunto de validación: 0.8905\n",
      "Exactitud de max_depth igual a 9\n",
      "Conjunto de entrenamiento: 0.8897\n",
      "Conjunto de validación: 0.9\n",
      "Exactitud de max_depth igual a 10\n",
      "Conjunto de entrenamiento: 0.9004\n",
      "Conjunto de validación: 0.91\n",
      "\n",
      "F1: 0.718801996672213\n"
     ]
    }
   ],
   "source": [
    "# Acá estoy buscando los mejores parámetros y f1\n",
    "\n",
    "best_depth = 0\n",
    "best_score = 0\n",
    "for depth in range(1, 11):  # selecciona el rango del hiperparámetro\n",
    "    model = DecisionTreeClassifier(random_state=54321, max_depth = depth)\n",
    "    model.fit(features, target)\n",
    "    train_predictions = model.predict(features)\n",
    "    test_predictions = model.predict(features_test)\n",
    "   \n",
    "    print(\"Exactitud de max_depth igual a\", depth)\n",
    "    print(\"Conjunto de entrenamiento:\", accuracy_score(target, train_predictions)) # calcula la puntuación de accuracy en el conjunto de entrenamiento\n",
    "    print(\"Conjunto de validación:\", accuracy_score(target_test, test_predictions)) # calcula la puntuación de accuracy en el conjunto de prueba\n",
    "    \n",
    "print()\n",
    "\n",
    "model = DecisionTreeClassifier(random_state=54321, max_depth = 10)\n",
    "model.fit(features, target)\n",
    "val_predictions = model.predict(features_val)\n",
    "print(\"F1:\", f1_score(target_val, val_predictions))\n"
   ]
  },
  {
   "cell_type": "code",
   "execution_count": 12,
   "metadata": {},
   "outputs": [
    {
     "name": "stdout",
     "output_type": "stream",
     "text": [
      "La exactitud del mejor modelo en el conjunto de prueba (n_estimators = 10): 0.854\n",
      "La exactitud del mejor modelo en el conjunto de validación (n_estimators = 9): 0.854\n",
      "F1: 0.5048543689320388\n"
     ]
    }
   ],
   "source": [
    "# Acá estoy buscando los mejores parámetros y f1\n",
    "\n",
    "best_score = 0\n",
    "best_est = 0\n",
    "for est in range(1, 11): # selecciona el rango del hiperparámetro\n",
    "    model = RandomForestClassifier(random_state=54321, n_estimators=est) # configura el número de árboles\n",
    "    model.fit(features_train, target_train) # entrena el modelo en el conjunto de entrenamiento\n",
    "    score = model.score(features_test, target_test) # calcula la puntuación de accuracy en el conjunto de validación\n",
    "    if score > best_score:\n",
    "        best_score = score # guarda la mejor puntuación de accuracy en el conjunto de validación\n",
    "        best_est = est # guarda el número de estimadores que corresponden a la mejor puntuación de exactitud\n",
    "\n",
    "        \n",
    "print(\"La exactitud del mejor modelo en el conjunto de prueba (n_estimators = {}): {}\".format(best_est, best_score))\n",
    "print(\"La exactitud del mejor modelo en el conjunto de validación (n_estimators = 9):\", score)\n",
    "\n",
    "val_predictions = model.predict(features_val)\n",
    "print(\"F1:\", f1_score(target_val, val_predictions))"
   ]
  },
  {
   "cell_type": "code",
   "execution_count": 13,
   "metadata": {},
   "outputs": [
    {
     "name": "stdout",
     "output_type": "stream",
     "text": [
      "F1: 0.12745098039215685\n"
     ]
    }
   ],
   "source": [
    "# F1 sin balancear\n",
    "\n",
    "model = LogisticRegression(random_state=12345, solver='liblinear')\n",
    "model.fit(features_train, target_train)\n",
    "predicted_valid = model.predict(features_val)\n",
    "print('F1:', f1_score(target_val, predicted_valid))"
   ]
  },
  {
   "cell_type": "code",
   "execution_count": 14,
   "metadata": {},
   "outputs": [
    {
     "data": {
      "text/plain": [
       "0    0.7963\n",
       "1    0.2037\n",
       "Name: Exited, dtype: float64"
      ]
     },
     "execution_count": 14,
     "metadata": {},
     "output_type": "execute_result"
    }
   ],
   "source": [
    "# Observemos el desbalance de las clases\n",
    "\n",
    "target.value_counts(normalize= True)\n",
    "\n"
   ]
  },
  {
   "cell_type": "code",
   "execution_count": 15,
   "metadata": {},
   "outputs": [
    {
     "name": "stdout",
     "output_type": "stream",
     "text": [
      "F1: 0.49019607843137253\n"
     ]
    }
   ],
   "source": [
    "# F1 balanceo de peso\n",
    "\n",
    "model = LogisticRegression(random_state=12345, solver='liblinear', class_weight='balanced')\n",
    "model.fit(features_train, target_train)\n",
    "predicted_valid = model.predict(features_val)\n",
    "print('F1:', f1_score(target_val, predicted_valid))"
   ]
  },
  {
   "cell_type": "code",
   "execution_count": 16,
   "metadata": {},
   "outputs": [
    {
     "name": "stdout",
     "output_type": "stream",
     "text": [
      "F1: 0.4869565217391304\n"
     ]
    }
   ],
   "source": [
    "# F1 equilibrio de clases por submuestreo\n",
    "\n",
    "def downsample(features, target, fraction):\n",
    "    features_zeros = features[target == 0]\n",
    "    features_ones = features[target == 1]\n",
    "    target_zeros = target[target == 0]\n",
    "    target_ones = target[target == 1]\n",
    "\n",
    "    features_downsampled = pd.concat(\n",
    "        [features_zeros.sample(frac=fraction, random_state=12345)]\n",
    "        + [features_ones]\n",
    "    )\n",
    "    target_downsampled = pd.concat(\n",
    "        [target_zeros.sample(frac=fraction, random_state=12345)]\n",
    "        + [target_ones]\n",
    "    )\n",
    "\n",
    "    features_downsampled, target_downsampled = shuffle(\n",
    "        features_downsampled, target_downsampled, random_state=12345\n",
    "    )\n",
    "\n",
    "    return features_downsampled, target_downsampled\n",
    "\n",
    "\n",
    "features_downsampled, target_downsampled = downsample(\n",
    "    features_train, target_train, 0.25580811252040686\n",
    ")\n",
    "\n",
    "model = LogisticRegression(solver='liblinear', random_state=12345)\n",
    "model.fit(features_downsampled, target_downsampled)\n",
    "predicted_valid = model.predict(features_val)\n",
    "print('F1:', f1_score(target_val, predicted_valid))"
   ]
  },
  {
   "cell_type": "code",
   "execution_count": 17,
   "metadata": {},
   "outputs": [
    {
     "data": {
      "text/plain": [
       "0    1305\n",
       "1    1297\n",
       "Name: Exited, dtype: int64"
      ]
     },
     "execution_count": 17,
     "metadata": {},
     "output_type": "execute_result"
    }
   ],
   "source": [
    "target_downsampled.value_counts()"
   ]
  },
  {
   "cell_type": "code",
   "execution_count": 18,
   "metadata": {},
   "outputs": [
    {
     "name": "stdout",
     "output_type": "stream",
     "text": [
      "F1: 0.47422680412371127\n"
     ]
    }
   ],
   "source": [
    "# F1 equilibrio de clases por sobremuestreo\n",
    "\n",
    "def upsample(features, target, repeat):\n",
    "    features_zeros = features[target == 0]\n",
    "    features_ones = features[target == 1]\n",
    "    target_zeros = target[target == 0]\n",
    "    target_ones = target[target == 1]\n",
    "\n",
    "    features_upsampled = pd.concat([features_zeros] + [features_ones] * repeat)\n",
    "    target_upsampled = pd.concat([target_zeros] + [target_ones] * repeat)\n",
    "\n",
    "    features_upsampled, target_upsampled = shuffle(\n",
    "        features_upsampled, target_upsampled, random_state=12345\n",
    "    )\n",
    "\n",
    "    return features_upsampled, target_upsampled\n",
    "\n",
    "\n",
    "features_upsampled, target_upsampled = upsample(\n",
    "    features_train, target_train, 4\n",
    ")\n",
    "\n",
    "# < escribe el código aquí >\n",
    "model = LogisticRegression(random_state=12345, solver='liblinear')\n",
    "model.fit(features_upsampled, target_upsampled)\n",
    "predicted_valid = model.predict(features_val)\n",
    "print('F1:', f1_score(target_val, predicted_valid))"
   ]
  },
  {
   "cell_type": "code",
   "execution_count": 19,
   "metadata": {},
   "outputs": [
    {
     "data": {
      "text/plain": [
       "1    5188\n",
       "0    5103\n",
       "Name: Exited, dtype: int64"
      ]
     },
     "execution_count": 19,
     "metadata": {},
     "output_type": "execute_result"
    }
   ],
   "source": [
    "target_upsampled.value_counts()"
   ]
  },
  {
   "cell_type": "code",
   "execution_count": 20,
   "metadata": {},
   "outputs": [
    {
     "name": "stdout",
     "output_type": "stream",
     "text": [
      "0.694944\n"
     ]
    }
   ],
   "source": [
    "# Acá estoy buscando la métrica auc-roc\n",
    "\n",
    "\n",
    "model = LogisticRegression(random_state=12345, solver='liblinear')\n",
    "model.fit(features_train, target_train)\n",
    "\n",
    "probabilities_valid = model.predict_proba(features_val)\n",
    "probabilities_one_valid = probabilities_valid[:, 1]\n",
    "\n",
    "\n",
    "\n",
    "auc_roc = roc_auc_score(target_val, probabilities_one_valid)\n",
    "print(auc_roc)"
   ]
  },
  {
   "cell_type": "code",
   "execution_count": 21,
   "metadata": {},
   "outputs": [
    {
     "name": "stdout",
     "output_type": "stream",
     "text": [
      "F1: 0.7272727272727274\n",
      "Curva ROC: 0.9177329192546584\n"
     ]
    }
   ],
   "source": [
    "model = DecisionTreeClassifier(random_state=54321, max_depth = 10)\n",
    "model.fit(features, target)\n",
    "test_predictions = model.predict(features_test)\n",
    "print(\"F1:\", f1_score(target_test, test_predictions))\n",
    "\n",
    "probabilities_valid = model.predict_proba(features_test)\n",
    "probabilities_one_valid = probabilities_valid[:, 1]\n",
    "\n",
    "auc_roc = roc_auc_score(target_test, probabilities_one_valid)\n",
    "print(\"Curva ROC:\", auc_roc)"
   ]
  },
  {
   "cell_type": "markdown",
   "metadata": {},
   "source": [
    "### 3 Conclusión\n",
    "\n",
    "Una vez elegido el mejor modelo calculé los valores de f1 y la curva roc siendo el valor de f1 mayor a 0.59 como se había pedido. Siendo el valor de la Curva cercano a 1 quiere decir que el modelo tiene un nivel de exactitud muy alto."
   ]
  },
  {
   "cell_type": "markdown",
   "metadata": {},
   "source": []
  }
 ],
 "metadata": {
  "ExecuteTimeLog": [
   {
    "duration": 4,
    "start_time": "2024-05-21T17:38:00.513Z"
   },
   {
    "duration": 5166,
    "start_time": "2024-05-21T17:40:28.462Z"
   },
   {
    "duration": 43,
    "start_time": "2024-05-21T17:40:56.260Z"
   },
   {
    "duration": 30,
    "start_time": "2024-05-21T17:40:57.292Z"
   },
   {
    "duration": 53,
    "start_time": "2024-05-21T17:41:06.910Z"
   },
   {
    "duration": 16,
    "start_time": "2024-05-21T17:41:15.402Z"
   },
   {
    "duration": 17,
    "start_time": "2024-05-21T17:41:25.668Z"
   },
   {
    "duration": 409,
    "start_time": "2024-05-21T17:42:32.565Z"
   },
   {
    "duration": 24,
    "start_time": "2024-05-21T17:42:42.574Z"
   },
   {
    "duration": 26,
    "start_time": "2024-05-21T17:42:50.357Z"
   },
   {
    "duration": 5,
    "start_time": "2024-05-21T17:43:47.744Z"
   },
   {
    "duration": 9,
    "start_time": "2024-05-21T17:47:25.963Z"
   },
   {
    "duration": 72,
    "start_time": "2024-05-21T17:50:40.574Z"
   },
   {
    "duration": 1822,
    "start_time": "2024-05-21T17:50:57.272Z"
   },
   {
    "duration": 33,
    "start_time": "2024-05-21T17:50:59.099Z"
   },
   {
    "duration": 32,
    "start_time": "2024-05-21T17:50:59.135Z"
   },
   {
    "duration": 85,
    "start_time": "2024-05-21T17:50:59.173Z"
   },
   {
    "duration": 17,
    "start_time": "2024-05-21T17:50:59.261Z"
   },
   {
    "duration": 40,
    "start_time": "2024-05-21T17:50:59.282Z"
   },
   {
    "duration": 6,
    "start_time": "2024-05-21T17:50:59.326Z"
   },
   {
    "duration": 424,
    "start_time": "2024-05-21T17:50:59.336Z"
   },
   {
    "duration": 8,
    "start_time": "2024-05-21T17:52:41.812Z"
   },
   {
    "duration": 11,
    "start_time": "2024-05-21T17:53:13.089Z"
   },
   {
    "duration": 7,
    "start_time": "2024-05-21T17:55:53.748Z"
   },
   {
    "duration": 57,
    "start_time": "2024-05-21T17:58:48.226Z"
   },
   {
    "duration": 90,
    "start_time": "2024-05-21T18:01:44.765Z"
   },
   {
    "duration": 334,
    "start_time": "2024-05-21T18:52:40.892Z"
   },
   {
    "duration": 5278,
    "start_time": "2024-05-21T18:52:52.087Z"
   },
   {
    "duration": 170,
    "start_time": "2024-05-21T18:52:57.369Z"
   },
   {
    "duration": 1670,
    "start_time": "2024-05-21T18:53:12.827Z"
   },
   {
    "duration": 39,
    "start_time": "2024-05-21T18:53:14.502Z"
   },
   {
    "duration": 30,
    "start_time": "2024-05-21T18:53:14.545Z"
   },
   {
    "duration": 86,
    "start_time": "2024-05-21T18:53:14.579Z"
   },
   {
    "duration": 19,
    "start_time": "2024-05-21T18:53:14.670Z"
   },
   {
    "duration": 42,
    "start_time": "2024-05-21T18:53:14.693Z"
   },
   {
    "duration": 7,
    "start_time": "2024-05-21T18:53:14.739Z"
   },
   {
    "duration": 1290,
    "start_time": "2024-05-21T18:53:14.749Z"
   },
   {
    "duration": 1,
    "start_time": "2024-05-21T18:53:16.042Z"
   },
   {
    "duration": 0,
    "start_time": "2024-05-21T18:53:16.046Z"
   },
   {
    "duration": 31,
    "start_time": "2024-05-21T19:09:48.958Z"
   },
   {
    "duration": 7,
    "start_time": "2024-05-21T19:10:16.325Z"
   },
   {
    "duration": 314,
    "start_time": "2024-05-21T19:10:20.438Z"
   },
   {
    "duration": 10,
    "start_time": "2024-05-21T19:34:52.489Z"
   },
   {
    "duration": 134,
    "start_time": "2024-05-21T19:35:02.091Z"
   },
   {
    "duration": 31,
    "start_time": "2024-05-21T19:37:54.500Z"
   },
   {
    "duration": 909,
    "start_time": "2024-05-21T19:38:11.900Z"
   },
   {
    "duration": 71,
    "start_time": "2024-05-21T19:38:26.223Z"
   },
   {
    "duration": 137,
    "start_time": "2024-05-21T19:38:58.362Z"
   },
   {
    "duration": 5736,
    "start_time": "2024-05-21T23:20:20.843Z"
   },
   {
    "duration": 39,
    "start_time": "2024-05-21T23:20:26.583Z"
   },
   {
    "duration": 25,
    "start_time": "2024-05-21T23:20:26.625Z"
   },
   {
    "duration": 75,
    "start_time": "2024-05-21T23:20:26.653Z"
   },
   {
    "duration": 17,
    "start_time": "2024-05-21T23:20:26.733Z"
   },
   {
    "duration": 17,
    "start_time": "2024-05-21T23:20:26.754Z"
   },
   {
    "duration": 4,
    "start_time": "2024-05-21T23:20:26.778Z"
   },
   {
    "duration": 832,
    "start_time": "2024-05-21T23:20:26.786Z"
   },
   {
    "duration": 0,
    "start_time": "2024-05-21T23:20:27.628Z"
   },
   {
    "duration": 0,
    "start_time": "2024-05-21T23:20:27.632Z"
   },
   {
    "duration": 0,
    "start_time": "2024-05-21T23:20:27.635Z"
   },
   {
    "duration": 131,
    "start_time": "2024-05-21T23:56:14.113Z"
   },
   {
    "duration": 309,
    "start_time": "2024-05-22T19:09:58.393Z"
   },
   {
    "duration": 5261,
    "start_time": "2024-05-22T19:10:06.787Z"
   },
   {
    "duration": 42,
    "start_time": "2024-05-22T19:10:12.052Z"
   },
   {
    "duration": 25,
    "start_time": "2024-05-22T19:10:12.096Z"
   },
   {
    "duration": 71,
    "start_time": "2024-05-22T19:10:12.123Z"
   },
   {
    "duration": 19,
    "start_time": "2024-05-22T19:10:12.198Z"
   },
   {
    "duration": 16,
    "start_time": "2024-05-22T19:10:12.236Z"
   },
   {
    "duration": 5,
    "start_time": "2024-05-22T19:10:12.255Z"
   },
   {
    "duration": 10,
    "start_time": "2024-05-22T19:10:12.264Z"
   },
   {
    "duration": 8,
    "start_time": "2024-05-22T19:10:12.277Z"
   },
   {
    "duration": 0,
    "start_time": "2024-05-22T19:10:12.288Z"
   },
   {
    "duration": 0,
    "start_time": "2024-05-22T19:10:12.289Z"
   },
   {
    "duration": 269,
    "start_time": "2024-05-22T19:10:29.766Z"
   },
   {
    "duration": 10,
    "start_time": "2024-05-22T19:10:49.233Z"
   },
   {
    "duration": 59,
    "start_time": "2024-05-22T19:11:31.728Z"
   },
   {
    "duration": 11,
    "start_time": "2024-05-22T19:24:49.238Z"
   },
   {
    "duration": 5224,
    "start_time": "2024-05-23T15:15:37.564Z"
   },
   {
    "duration": 40,
    "start_time": "2024-05-23T15:15:42.792Z"
   },
   {
    "duration": 25,
    "start_time": "2024-05-23T15:15:42.835Z"
   },
   {
    "duration": 71,
    "start_time": "2024-05-23T15:15:42.863Z"
   },
   {
    "duration": 18,
    "start_time": "2024-05-23T15:15:42.940Z"
   },
   {
    "duration": 16,
    "start_time": "2024-05-23T15:15:42.960Z"
   },
   {
    "duration": 5,
    "start_time": "2024-05-23T15:15:42.979Z"
   },
   {
    "duration": 50,
    "start_time": "2024-05-23T15:15:42.988Z"
   },
   {
    "duration": 280,
    "start_time": "2024-05-23T15:15:43.040Z"
   },
   {
    "duration": 0,
    "start_time": "2024-05-23T15:15:43.333Z"
   },
   {
    "duration": 0,
    "start_time": "2024-05-23T15:15:43.336Z"
   },
   {
    "duration": 28,
    "start_time": "2024-05-23T15:20:39.028Z"
   },
   {
    "duration": 337,
    "start_time": "2024-05-24T18:00:04.947Z"
   },
   {
    "duration": 5882,
    "start_time": "2024-05-24T18:00:14.737Z"
   },
   {
    "duration": 43,
    "start_time": "2024-05-24T18:00:20.624Z"
   },
   {
    "duration": 28,
    "start_time": "2024-05-24T18:00:20.671Z"
   },
   {
    "duration": 76,
    "start_time": "2024-05-24T18:00:20.703Z"
   },
   {
    "duration": 16,
    "start_time": "2024-05-24T18:00:20.787Z"
   },
   {
    "duration": 35,
    "start_time": "2024-05-24T18:00:20.806Z"
   },
   {
    "duration": 5,
    "start_time": "2024-05-24T18:00:20.844Z"
   },
   {
    "duration": 16,
    "start_time": "2024-05-24T18:00:20.852Z"
   },
   {
    "duration": 306,
    "start_time": "2024-05-24T18:00:20.871Z"
   },
   {
    "duration": 0,
    "start_time": "2024-05-24T18:00:21.181Z"
   },
   {
    "duration": 0,
    "start_time": "2024-05-24T18:00:21.183Z"
   },
   {
    "duration": 543,
    "start_time": "2024-05-24T18:23:51.817Z"
   },
   {
    "duration": 882,
    "start_time": "2024-05-24T18:24:07.421Z"
   },
   {
    "duration": 326,
    "start_time": "2024-05-24T18:25:57.288Z"
   },
   {
    "duration": 321,
    "start_time": "2024-05-24T18:26:42.740Z"
   },
   {
    "duration": 383,
    "start_time": "2024-05-24T18:28:42.733Z"
   },
   {
    "duration": 510,
    "start_time": "2024-05-24T18:35:38.733Z"
   },
   {
    "duration": 14,
    "start_time": "2024-05-24T18:53:36.798Z"
   },
   {
    "duration": 9,
    "start_time": "2024-05-24T18:54:08.922Z"
   },
   {
    "duration": 514,
    "start_time": "2024-05-24T18:54:18.372Z"
   },
   {
    "duration": 316,
    "start_time": "2024-05-24T18:54:21.847Z"
   },
   {
    "duration": 1954,
    "start_time": "2024-05-24T18:54:34.504Z"
   },
   {
    "duration": 45,
    "start_time": "2024-05-24T18:54:36.462Z"
   },
   {
    "duration": 30,
    "start_time": "2024-05-24T18:54:36.510Z"
   },
   {
    "duration": 74,
    "start_time": "2024-05-24T18:54:36.545Z"
   },
   {
    "duration": 28,
    "start_time": "2024-05-24T18:54:36.622Z"
   },
   {
    "duration": 21,
    "start_time": "2024-05-24T18:54:36.654Z"
   },
   {
    "duration": 8,
    "start_time": "2024-05-24T18:54:36.680Z"
   },
   {
    "duration": 40,
    "start_time": "2024-05-24T18:54:36.698Z"
   },
   {
    "duration": 10,
    "start_time": "2024-05-24T18:54:36.741Z"
   },
   {
    "duration": 548,
    "start_time": "2024-05-24T18:54:36.756Z"
   },
   {
    "duration": 988,
    "start_time": "2024-05-24T18:54:37.307Z"
   },
   {
    "duration": 0,
    "start_time": "2024-05-24T18:54:38.298Z"
   },
   {
    "duration": 0,
    "start_time": "2024-05-24T18:54:38.301Z"
   },
   {
    "duration": 7,
    "start_time": "2024-05-24T18:56:03.052Z"
   },
   {
    "duration": 518,
    "start_time": "2024-05-24T18:56:09.710Z"
   },
   {
    "duration": 10278,
    "start_time": "2024-05-24T18:56:13.745Z"
   },
   {
    "duration": 339,
    "start_time": "2024-05-25T00:46:46.889Z"
   },
   {
    "duration": 5094,
    "start_time": "2024-05-25T00:46:55.312Z"
   },
   {
    "duration": 37,
    "start_time": "2024-05-25T00:47:00.411Z"
   },
   {
    "duration": 27,
    "start_time": "2024-05-25T00:47:00.450Z"
   },
   {
    "duration": 63,
    "start_time": "2024-05-25T00:47:00.481Z"
   },
   {
    "duration": 16,
    "start_time": "2024-05-25T00:47:00.546Z"
   },
   {
    "duration": 16,
    "start_time": "2024-05-25T00:47:00.565Z"
   },
   {
    "duration": 4,
    "start_time": "2024-05-25T00:47:00.584Z"
   },
   {
    "duration": 52,
    "start_time": "2024-05-25T00:47:00.591Z"
   },
   {
    "duration": 5,
    "start_time": "2024-05-25T00:47:00.646Z"
   },
   {
    "duration": 550,
    "start_time": "2024-05-25T00:47:00.656Z"
   },
   {
    "duration": 9709,
    "start_time": "2024-05-25T00:47:01.213Z"
   },
   {
    "duration": 6206,
    "start_time": "2024-05-25T00:47:10.927Z"
   },
   {
    "duration": 750,
    "start_time": "2024-05-25T00:47:17.136Z"
   },
   {
    "duration": 291,
    "start_time": "2024-05-25T00:48:02.644Z"
   },
   {
    "duration": 6188,
    "start_time": "2024-05-25T00:48:42.726Z"
   },
   {
    "duration": 318,
    "start_time": "2024-05-27T17:28:38.305Z"
   },
   {
    "duration": 5307,
    "start_time": "2024-05-27T17:28:48.900Z"
   },
   {
    "duration": 38,
    "start_time": "2024-05-27T17:28:54.212Z"
   },
   {
    "duration": 26,
    "start_time": "2024-05-27T17:28:54.253Z"
   },
   {
    "duration": 74,
    "start_time": "2024-05-27T17:28:54.282Z"
   },
   {
    "duration": 16,
    "start_time": "2024-05-27T17:28:54.361Z"
   },
   {
    "duration": 17,
    "start_time": "2024-05-27T17:28:54.380Z"
   },
   {
    "duration": 35,
    "start_time": "2024-05-27T17:28:54.400Z"
   },
   {
    "duration": 11,
    "start_time": "2024-05-27T17:28:54.438Z"
   },
   {
    "duration": 4,
    "start_time": "2024-05-27T17:28:54.452Z"
   },
   {
    "duration": 8,
    "start_time": "2024-05-27T17:28:54.459Z"
   },
   {
    "duration": 0,
    "start_time": "2024-05-27T17:28:54.470Z"
   },
   {
    "duration": 0,
    "start_time": "2024-05-27T17:28:54.472Z"
   },
   {
    "duration": 0,
    "start_time": "2024-05-27T17:28:54.474Z"
   },
   {
    "duration": 5,
    "start_time": "2024-05-27T17:29:48.348Z"
   },
   {
    "duration": 7,
    "start_time": "2024-05-27T17:29:56.841Z"
   },
   {
    "duration": 508,
    "start_time": "2024-05-27T17:30:10.075Z"
   },
   {
    "duration": 9771,
    "start_time": "2024-05-27T17:30:15.829Z"
   },
   {
    "duration": 6353,
    "start_time": "2024-05-27T17:30:31.341Z"
   },
   {
    "duration": 394,
    "start_time": "2024-05-27T17:30:42.858Z"
   },
   {
    "duration": 300,
    "start_time": "2024-05-27T17:36:41.282Z"
   },
   {
    "duration": 672,
    "start_time": "2024-05-27T17:38:39.032Z"
   },
   {
    "duration": 383,
    "start_time": "2024-05-27T17:38:48.253Z"
   },
   {
    "duration": 293,
    "start_time": "2024-05-27T17:38:54.657Z"
   },
   {
    "duration": 424,
    "start_time": "2024-05-27T17:39:17.209Z"
   },
   {
    "duration": 219,
    "start_time": "2024-05-27T17:42:10.301Z"
   },
   {
    "duration": 7,
    "start_time": "2024-05-27T17:42:33.480Z"
   },
   {
    "duration": 1236,
    "start_time": "2024-05-27T17:42:38.727Z"
   },
   {
    "duration": 319,
    "start_time": "2024-05-27T17:42:51.614Z"
   },
   {
    "duration": 354,
    "start_time": "2024-05-27T17:47:21.189Z"
   },
   {
    "duration": 1218,
    "start_time": "2024-05-27T17:48:50.719Z"
   },
   {
    "duration": 936,
    "start_time": "2024-05-27T17:52:37.392Z"
   },
   {
    "duration": 629,
    "start_time": "2024-05-27T17:53:03.296Z"
   },
   {
    "duration": 635,
    "start_time": "2024-05-27T17:53:55.649Z"
   },
   {
    "duration": 1087,
    "start_time": "2024-05-27T17:55:05.048Z"
   },
   {
    "duration": 1078,
    "start_time": "2024-05-27T17:55:33.994Z"
   },
   {
    "duration": 5317,
    "start_time": "2024-05-28T14:50:33.144Z"
   },
   {
    "duration": 38,
    "start_time": "2024-05-28T14:50:38.465Z"
   },
   {
    "duration": 42,
    "start_time": "2024-05-28T14:50:38.506Z"
   },
   {
    "duration": 57,
    "start_time": "2024-05-28T14:50:38.556Z"
   },
   {
    "duration": 15,
    "start_time": "2024-05-28T14:50:38.632Z"
   },
   {
    "duration": 17,
    "start_time": "2024-05-28T14:50:38.650Z"
   },
   {
    "duration": 6,
    "start_time": "2024-05-28T14:50:38.670Z"
   },
   {
    "duration": 56,
    "start_time": "2024-05-28T14:50:38.680Z"
   },
   {
    "duration": 4,
    "start_time": "2024-05-28T14:50:38.740Z"
   },
   {
    "duration": 531,
    "start_time": "2024-05-28T14:50:38.750Z"
   },
   {
    "duration": 9694,
    "start_time": "2024-05-28T14:50:39.284Z"
   },
   {
    "duration": 6273,
    "start_time": "2024-05-28T14:50:48.981Z"
   },
   {
    "duration": 311,
    "start_time": "2024-05-28T14:50:55.257Z"
   },
   {
    "duration": 555,
    "start_time": "2024-05-28T14:50:55.576Z"
   },
   {
    "duration": 427,
    "start_time": "2024-05-28T14:50:56.135Z"
   },
   {
    "duration": 1315,
    "start_time": "2024-05-28T14:50:56.565Z"
   },
   {
    "duration": 413,
    "start_time": "2024-05-28T14:50:57.886Z"
   },
   {
    "duration": 1170,
    "start_time": "2024-05-28T14:50:58.333Z"
   },
   {
    "duration": 6,
    "start_time": "2024-05-28T14:55:01.121Z"
   },
   {
    "duration": 8,
    "start_time": "2024-05-28T14:55:11.451Z"
   },
   {
    "duration": 34,
    "start_time": "2024-05-28T16:08:12.184Z"
   },
   {
    "duration": 38,
    "start_time": "2024-05-28T16:08:47.374Z"
   },
   {
    "duration": 40,
    "start_time": "2024-05-28T16:09:43.232Z"
   },
   {
    "duration": 32,
    "start_time": "2024-05-28T16:19:31.251Z"
   },
   {
    "duration": 35,
    "start_time": "2024-05-28T16:19:56.161Z"
   },
   {
    "duration": 7,
    "start_time": "2024-05-28T16:20:03.863Z"
   },
   {
    "duration": 32,
    "start_time": "2024-05-28T16:20:06.771Z"
   },
   {
    "duration": 3170,
    "start_time": "2024-05-28T16:20:12.179Z"
   },
   {
    "duration": 32,
    "start_time": "2024-05-28T16:20:17.960Z"
   },
   {
    "duration": 7,
    "start_time": "2024-05-28T16:20:31.942Z"
   },
   {
    "duration": 8,
    "start_time": "2024-05-28T16:20:37.112Z"
   },
   {
    "duration": 8,
    "start_time": "2024-05-28T16:20:51.473Z"
   },
   {
    "duration": 9,
    "start_time": "2024-05-28T16:20:59.028Z"
   },
   {
    "duration": 17,
    "start_time": "2024-05-28T16:27:46.332Z"
   },
   {
    "duration": 317,
    "start_time": "2024-05-28T16:27:52.139Z"
   },
   {
    "duration": 5360,
    "start_time": "2024-05-29T16:41:05.879Z"
   },
   {
    "duration": 36,
    "start_time": "2024-05-29T16:41:11.244Z"
   },
   {
    "duration": 38,
    "start_time": "2024-05-29T16:41:11.283Z"
   },
   {
    "duration": 53,
    "start_time": "2024-05-29T16:41:11.327Z"
   },
   {
    "duration": 36,
    "start_time": "2024-05-29T16:41:11.384Z"
   },
   {
    "duration": 16,
    "start_time": "2024-05-29T16:41:11.424Z"
   },
   {
    "duration": 5,
    "start_time": "2024-05-29T16:41:11.443Z"
   },
   {
    "duration": 11,
    "start_time": "2024-05-29T16:41:11.451Z"
   },
   {
    "duration": 4,
    "start_time": "2024-05-29T16:41:11.508Z"
   },
   {
    "duration": 541,
    "start_time": "2024-05-29T16:41:11.518Z"
   },
   {
    "duration": 0,
    "start_time": "2024-05-29T16:41:12.061Z"
   },
   {
    "duration": 0,
    "start_time": "2024-05-29T16:41:12.064Z"
   },
   {
    "duration": 0,
    "start_time": "2024-05-29T16:41:12.065Z"
   },
   {
    "duration": 0,
    "start_time": "2024-05-29T16:41:12.068Z"
   },
   {
    "duration": 0,
    "start_time": "2024-05-29T16:41:12.070Z"
   },
   {
    "duration": 0,
    "start_time": "2024-05-29T16:41:12.072Z"
   },
   {
    "duration": 0,
    "start_time": "2024-05-29T16:41:12.074Z"
   },
   {
    "duration": 0,
    "start_time": "2024-05-29T16:41:12.076Z"
   },
   {
    "duration": 501,
    "start_time": "2024-05-29T16:46:29.767Z"
   },
   {
    "duration": 8,
    "start_time": "2024-05-29T16:47:28.259Z"
   },
   {
    "duration": 1531,
    "start_time": "2024-05-29T16:58:55.644Z"
   },
   {
    "duration": 32,
    "start_time": "2024-05-29T16:58:57.179Z"
   },
   {
    "duration": 24,
    "start_time": "2024-05-29T16:58:57.214Z"
   },
   {
    "duration": 71,
    "start_time": "2024-05-29T16:58:57.244Z"
   },
   {
    "duration": 15,
    "start_time": "2024-05-29T16:58:57.319Z"
   },
   {
    "duration": 16,
    "start_time": "2024-05-29T16:58:57.337Z"
   },
   {
    "duration": 5,
    "start_time": "2024-05-29T16:58:57.356Z"
   },
   {
    "duration": 49,
    "start_time": "2024-05-29T16:58:57.364Z"
   },
   {
    "duration": 4,
    "start_time": "2024-05-29T16:58:57.416Z"
   },
   {
    "duration": 555,
    "start_time": "2024-05-29T16:58:57.425Z"
   },
   {
    "duration": 9663,
    "start_time": "2024-05-29T16:58:57.982Z"
   },
   {
    "duration": 6711,
    "start_time": "2024-05-29T16:59:07.648Z"
   },
   {
    "duration": 342,
    "start_time": "2024-05-29T16:59:14.366Z"
   },
   {
    "duration": 9,
    "start_time": "2024-05-29T16:59:14.710Z"
   },
   {
    "duration": 426,
    "start_time": "2024-05-29T16:59:14.722Z"
   },
   {
    "duration": 463,
    "start_time": "2024-05-29T16:59:15.151Z"
   },
   {
    "duration": 1385,
    "start_time": "2024-05-29T16:59:15.623Z"
   },
   {
    "duration": 399,
    "start_time": "2024-05-29T16:59:17.011Z"
   },
   {
    "duration": 1259,
    "start_time": "2024-05-29T16:59:17.413Z"
   },
   {
    "duration": 7,
    "start_time": "2024-05-29T17:04:36.389Z"
   },
   {
    "duration": 502,
    "start_time": "2024-05-29T17:05:41.208Z"
   },
   {
    "duration": 8,
    "start_time": "2024-05-29T17:05:45.907Z"
   },
   {
    "duration": 624,
    "start_time": "2024-05-29T17:05:59.729Z"
   },
   {
    "duration": 8,
    "start_time": "2024-05-29T17:06:03.019Z"
   },
   {
    "duration": 358,
    "start_time": "2024-05-29T17:06:09.528Z"
   },
   {
    "duration": 8,
    "start_time": "2024-05-29T17:06:12.183Z"
   },
   {
    "duration": 417,
    "start_time": "2024-05-29T17:06:20.490Z"
   },
   {
    "duration": 7,
    "start_time": "2024-05-29T17:06:23.226Z"
   },
   {
    "duration": 6,
    "start_time": "2024-05-29T17:07:32.552Z"
   },
   {
    "duration": 8,
    "start_time": "2024-05-29T17:07:53.514Z"
   },
   {
    "duration": 380,
    "start_time": "2024-05-29T17:08:09.286Z"
   },
   {
    "duration": 7,
    "start_time": "2024-05-29T17:08:12.324Z"
   },
   {
    "duration": 6,
    "start_time": "2024-05-29T17:08:34.625Z"
   },
   {
    "duration": 7,
    "start_time": "2024-05-29T17:08:43.113Z"
   },
   {
    "duration": 364,
    "start_time": "2024-05-29T17:08:48.983Z"
   },
   {
    "duration": 8,
    "start_time": "2024-05-29T17:08:51.626Z"
   },
   {
    "duration": 10,
    "start_time": "2024-05-29T17:10:33.325Z"
   },
   {
    "duration": 5,
    "start_time": "2024-05-29T17:10:57.080Z"
   },
   {
    "duration": 9,
    "start_time": "2024-05-29T17:11:10.492Z"
   },
   {
    "duration": 607,
    "start_time": "2024-05-29T17:11:16.823Z"
   },
   {
    "duration": 667,
    "start_time": "2024-05-29T17:11:27.261Z"
   },
   {
    "duration": 12,
    "start_time": "2024-05-29T17:11:30.008Z"
   },
   {
    "duration": 742,
    "start_time": "2024-05-29T17:11:34.198Z"
   },
   {
    "duration": 8,
    "start_time": "2024-05-29T17:11:36.852Z"
   },
   {
    "duration": 805,
    "start_time": "2024-05-29T17:11:40.914Z"
   },
   {
    "duration": 9,
    "start_time": "2024-05-29T17:11:45.409Z"
   },
   {
    "duration": 5244,
    "start_time": "2024-05-30T18:50:45.850Z"
   },
   {
    "duration": 41,
    "start_time": "2024-05-30T18:50:51.098Z"
   },
   {
    "duration": 25,
    "start_time": "2024-05-30T18:50:51.142Z"
   },
   {
    "duration": 72,
    "start_time": "2024-05-30T18:50:51.170Z"
   },
   {
    "duration": 16,
    "start_time": "2024-05-30T18:50:51.247Z"
   },
   {
    "duration": 15,
    "start_time": "2024-05-30T18:50:51.266Z"
   },
   {
    "duration": 5,
    "start_time": "2024-05-30T18:50:51.284Z"
   },
   {
    "duration": 51,
    "start_time": "2024-05-30T18:50:51.292Z"
   },
   {
    "duration": 5,
    "start_time": "2024-05-30T18:50:51.346Z"
   },
   {
    "duration": 556,
    "start_time": "2024-05-30T18:50:51.358Z"
   },
   {
    "duration": 9445,
    "start_time": "2024-05-30T18:50:51.916Z"
   },
   {
    "duration": 6569,
    "start_time": "2024-05-30T18:51:01.364Z"
   },
   {
    "duration": 323,
    "start_time": "2024-05-30T18:51:07.935Z"
   },
   {
    "duration": 71,
    "start_time": "2024-05-30T18:51:08.264Z"
   },
   {
    "duration": 391,
    "start_time": "2024-05-30T18:51:08.342Z"
   },
   {
    "duration": 500,
    "start_time": "2024-05-30T18:51:08.737Z"
   },
   {
    "duration": 8,
    "start_time": "2024-05-30T18:51:09.241Z"
   },
   {
    "duration": 956,
    "start_time": "2024-05-30T18:51:09.251Z"
   },
   {
    "duration": 8,
    "start_time": "2024-05-30T18:51:10.235Z"
   },
   {
    "duration": 401,
    "start_time": "2024-05-30T18:51:10.248Z"
   },
   {
    "duration": 1239,
    "start_time": "2024-05-30T18:51:10.652Z"
   }
  ],
  "kernelspec": {
   "display_name": "Python 3 (ipykernel)",
   "language": "python",
   "name": "python3"
  },
  "language_info": {
   "codemirror_mode": {
    "name": "ipython",
    "version": 3
   },
   "file_extension": ".py",
   "mimetype": "text/x-python",
   "name": "python",
   "nbconvert_exporter": "python",
   "pygments_lexer": "ipython3",
   "version": "3.9.19"
  },
  "toc": {
   "base_numbering": 1,
   "nav_menu": {},
   "number_sections": true,
   "sideBar": true,
   "skip_h1_title": true,
   "title_cell": "Table of Contents",
   "title_sidebar": "Contents",
   "toc_cell": false,
   "toc_position": {},
   "toc_section_display": true,
   "toc_window_display": false
  }
 },
 "nbformat": 4,
 "nbformat_minor": 2
}
